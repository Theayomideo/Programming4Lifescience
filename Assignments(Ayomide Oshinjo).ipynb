{
 "cells": [
  {
   "cell_type": "markdown",
   "id": "suited-ferry",
   "metadata": {},
   "source": [
    "Exercise_1:Calculate the % GC and % AT content in the trna sequence"
   ]
  },
  {
   "cell_type": "code",
   "execution_count": 2,
   "id": "advance-public",
   "metadata": {},
   "outputs": [],
   "source": [
    "trna='AAGGGCTTAGCTTAATTAAAGTGGCTGATTTGCGTTCAGTTGATGCAGAGTGGGGTTTTGCAGTCCTTA'\n",
    "A_count=trna.count('A')\n",
    "C_count=trna.count('C')\n",
    "G_count=trna.count('G')\n",
    "T_count=trna.count('T')"
   ]
  },
  {
   "cell_type": "code",
   "execution_count": 3,
   "id": "standard-marijuana",
   "metadata": {},
   "outputs": [
    {
     "name": "stdout",
     "output_type": "stream",
     "text": [
      "56.52173913043478\n"
     ]
    }
   ],
   "source": [
    "AT_count=trna.count('A')+trna.count('T')\n",
    "perc_AT_count=AT_count/len(trna)*100\n",
    "print(perc_AT_count)"
   ]
  },
  {
   "cell_type": "code",
   "execution_count": 6,
   "id": "intellectual-woman",
   "metadata": {},
   "outputs": [
    {
     "name": "stdout",
     "output_type": "stream",
     "text": [
      "43.47826086956522\n"
     ]
    }
   ],
   "source": [
    "GC_count=trna.count('G')+trna.count('C')\n",
    "perc_GC_count=GC_count/len(trna)*100\n",
    "print(perc_GC_count)"
   ]
  },
  {
   "cell_type": "markdown",
   "id": "threaded-victor",
   "metadata": {},
   "source": [
    "Exercise_2:Given the following amino acid sequence (MNKMDLVADVAEKTDLSKAKATEVIDAVFA), find the first, last and the 5th amino acids in the sequence"
   ]
  },
  {
   "cell_type": "code",
   "execution_count": 22,
   "id": "fatal-plasma",
   "metadata": {},
   "outputs": [
    {
     "name": "stdout",
     "output_type": "stream",
     "text": [
      "The first amino acid is M\n",
      "The last amino acid is A\n",
      "The fifth amino acid is D\n",
      "               OR               \n",
      "The first amino acid is M\n",
      "The last amino acid is A\n",
      "The fifth amino acid D\n"
     ]
    }
   ],
   "source": [
    "seq= 'MNKMDLVADVAEKTDLSKAKATEVIDAVFA'\n",
    "print('The first amino acid is', seq[0])\n",
    "print('The last amino acid is', seq[-1])\n",
    "print('The fifth amino acid is', seq[4])\n",
    "#Alternatively\n",
    "print (\"               OR               \")\n",
    "print('The first amino acid is %s' %seq[0])\n",
    "print('The last amino acid is %s' %seq[-1])\n",
    "print('The fifth amino acid %s' %seq[4])"
   ]
  },
  {
   "cell_type": "markdown",
   "id": "disciplinary-printing",
   "metadata": {},
   "source": [
    "Exercise_3: The above amino acid is a bacterial restriction enzyme that recognizes \"TCCGGA\". Find the first restriction site in the following sequence: AAAAATCCCGAGGCGGCTATATAGGGCTCCGGAGGCGTAATATAAAA"
   ]
  },
  {
   "cell_type": "code",
   "execution_count": 21,
   "id": "rocky-start",
   "metadata": {},
   "outputs": [
    {
     "name": "stdout",
     "output_type": "stream",
     "text": [
      "The first restriction site is  27\n",
      "               OR               \n",
      "The first restriction site is 27\n"
     ]
    }
   ],
   "source": [
    "seq1= \"AAAAATCCCGAGGCGGCTATATAGGGCTCCGGAGGCGTAATATAAAA\"\n",
    "print (\"The first restriction site is \", seq1.find(\"TCCGGA\"))\n",
    "#Alternatively\n",
    "print (\"               OR               \")\n",
    "print (\"The first restriction site is %s\" %seq1.find(\"TCCGGA\"))"
   ]
  },
  {
   "cell_type": "markdown",
   "id": "palestinian-surgery",
   "metadata": {},
   "source": [
    "Exercise_4:Using strings, lists, tuples and dictionaries concepts, find the reverse complement of AAAAATCCCGAGGCGGCTATATAGGGCTCCGGAGGCGTAATATAAAA"
   ]
  },
  {
   "cell_type": "code",
   "execution_count": 1,
   "id": "facial-detroit",
   "metadata": {},
   "outputs": [
    {
     "name": "stdout",
     "output_type": "stream",
     "text": [
      "The DNA Sequence is AAAAATCCCGAGGCGGCTATATAGGGCTCCGGAGGCGTAATATAAAA\n",
      "The reverse DNA is AAAATATAATGCGGAGGCCTCGGGATATATCGGCGGAGCCCTAAAAA\n",
      "TTTTATATTACGCCTCCGGAGCCCTATATAGCCGCCTCGGGATTTTT"
     ]
    }
   ],
   "source": [
    "DNA= \"AAAAATCCCGAGGCGGCTATATAGGGCTCCGGAGGCGTAATATAAAA\"\n",
    "print(\"The DNA Sequence is %s\" %DNA)\n",
    "DNA_reverse=DNA[::-1]\n",
    "print(\"The reverse DNA is %s\" %DNA_reverse)\n",
    "for i in DNA_reverse: \n",
    "    if (i=='T'):print('A', end=\"\")\n",
    "    elif (i=='A'):print('T', end=\"\")\n",
    "    elif (i=='G'):print('C', end=\"\")\n",
    "    elif (i=='C'):print('G', end=\"\") "
   ]
  },
  {
   "cell_type": "markdown",
   "id": "magnetic-former",
   "metadata": {},
   "source": [
    "Create a while loop that starts with x = 0 and increments x until x is equal to 5. Each iteration should print to the console."
   ]
  },
  {
   "cell_type": "code",
   "execution_count": 2,
   "id": "healthy-belief",
   "metadata": {},
   "outputs": [
    {
     "name": "stdout",
     "output_type": "stream",
     "text": [
      "0\n",
      "1\n",
      "2\n",
      "3\n",
      "4\n",
      "5\n"
     ]
    }
   ],
   "source": [
    "x=0\n",
    "while x<6:\n",
    "    print(x)\n",
    "    x=x+1"
   ]
  },
  {
   "cell_type": "markdown",
   "id": "entitled-warrior",
   "metadata": {},
   "source": [
    "Repeat the previous problem, but the loop will skip printing x = 5 to the console but will print values of x from 6 to 10"
   ]
  },
  {
   "cell_type": "code",
   "execution_count": 3,
   "id": "wicked-prisoner",
   "metadata": {},
   "outputs": [
    {
     "name": "stdout",
     "output_type": "stream",
     "text": [
      "6\n",
      "7\n",
      "8\n",
      "9\n",
      "10\n"
     ]
    }
   ],
   "source": [
    "x=6\n",
    "while x<11:\n",
    "    print(x)\n",
    "    x=x+1"
   ]
  },
  {
   "cell_type": "markdown",
   "id": "disturbed-walter",
   "metadata": {},
   "source": [
    "Create a for loop that prints values from 4 to 10 to the console."
   ]
  },
  {
   "cell_type": "code",
   "execution_count": 4,
   "id": "catholic-amino",
   "metadata": {},
   "outputs": [
    {
     "name": "stdout",
     "output_type": "stream",
     "text": [
      "4\n",
      "5\n",
      "6\n",
      "7\n",
      "8\n",
      "9\n",
      "10\n"
     ]
    }
   ],
   "source": [
    "for x in range(4,11):\n",
    "    print(x)"
   ]
  },
  {
   "cell_type": "markdown",
   "id": "antique-reset",
   "metadata": {},
   "source": [
    "Let's return to our earlier exercise: calculating %GC content. In this exercise:\n",
    "\n",
    "Write a function percentageGC that calculates the GC content of a DNA sequence\n",
    "The function should return the %GC content\n",
    "The Function should return a message if the provided sequence is not DNA (This should be checked by a different function, called by your function)"
   ]
  },
  {
   "cell_type": "code",
   "execution_count": 26,
   "id": "alien-burns",
   "metadata": {},
   "outputs": [],
   "source": [
    "def gc_content(sequence):\n",
    "    if sequence != str:\n",
    "        print (\"sequence error\")\n",
    "        gc_count = sequence.count(\"G\") + sequence.count(\"C\")\n",
    "        gc_fraction = float(gc_count) / len(sequence)\n",
    "        return 100 * gc_fraction"
   ]
  },
  {
   "cell_type": "code",
   "execution_count": 24,
   "id": "technical-importance",
   "metadata": {},
   "outputs": [],
   "source": [
    "sequence=\"AAGGGCTTAGCTTAATTAAAGTGGCTGATTTGCGTTCAGTTGATGCAGAGTGGGGTTTTGCAGTCCTTA\""
   ]
  },
  {
   "cell_type": "code",
   "execution_count": 27,
   "id": "collective-singapore",
   "metadata": {},
   "outputs": [
    {
     "name": "stdout",
     "output_type": "stream",
     "text": [
      "sequence error\n"
     ]
    },
    {
     "data": {
      "text/plain": [
       "43.47826086956522"
      ]
     },
     "execution_count": 27,
     "metadata": {},
     "output_type": "execute_result"
    }
   ],
   "source": [
    "gc_content(sequence)"
   ]
  },
  {
   "cell_type": "code",
   "execution_count": null,
   "id": "simple-microwave",
   "metadata": {},
   "outputs": [],
   "source": []
  }
 ],
 "metadata": {
  "kernelspec": {
   "display_name": "Python 3",
   "language": "python",
   "name": "python3"
  },
  "language_info": {
   "codemirror_mode": {
    "name": "ipython",
    "version": 3
   },
   "file_extension": ".py",
   "mimetype": "text/x-python",
   "name": "python",
   "nbconvert_exporter": "python",
   "pygments_lexer": "ipython3",
   "version": "3.9.1"
  }
 },
 "nbformat": 4,
 "nbformat_minor": 5
}
