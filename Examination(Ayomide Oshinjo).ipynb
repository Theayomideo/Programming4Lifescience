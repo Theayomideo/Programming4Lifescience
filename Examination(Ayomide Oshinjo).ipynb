{
 "cells": [
  {
   "cell_type": "markdown",
   "id": "associate-tuition",
   "metadata": {},
   "source": [
    "QUESTIONS"
   ]
  },
  {
   "cell_type": "markdown",
   "id": "moral-disability",
   "metadata": {},
   "source": [
    "Write a function that reverse complements this sequence (10mks)\n",
    "DNA=\"ATCGATCGATCAGATTTAAACGGCATATCATAGCACGTACATGACG\""
   ]
  },
  {
   "cell_type": "code",
   "execution_count": 3,
   "id": "remarkable-female",
   "metadata": {},
   "outputs": [
    {
     "name": "stdout",
     "output_type": "stream",
     "text": [
      "TTTTATATTACGCCTCCGGAGCCCTATATAGCCGCCTCGGGATTTTT"
     ]
    }
   ],
   "source": [
    "DNA= \"AAAAATCCCGAGGCGGCTATATAGGGCTCCGGAGGCGTAATATAAAA\"\n",
    "def reverse_complement(str):\n",
    "    for i in DNA[::-1]:\n",
    "        if (i=='T'):print('A', end=\"\")\n",
    "        elif (i=='A'):print('T', end=\"\")\n",
    "        elif (i=='G'):print('C', end=\"\")\n",
    "        elif (i=='C'):print('G', end=\"\")\n",
    "reverse_complement(DNA)"
   ]
  },
  {
   "cell_type": "markdown",
   "id": "brutal-heart",
   "metadata": {},
   "source": [
    "Write a for loop that prints values 4-10 (2.5mks)"
   ]
  },
  {
   "cell_type": "code",
   "execution_count": 4,
   "id": "better-register",
   "metadata": {},
   "outputs": [
    {
     "name": "stdout",
     "output_type": "stream",
     "text": [
      "4\n",
      "5\n",
      "6\n",
      "7\n",
      "8\n",
      "9\n",
      "10\n"
     ]
    }
   ],
   "source": [
    "for x in range(4,11):\n",
    "    print(x)"
   ]
  },
  {
   "cell_type": "markdown",
   "id": "alternate-mediterranean",
   "metadata": {},
   "source": [
    "Create a while loop that starts with x = 0 and increments x until x is equal to 5. Each iteration should print to the console. (2.5mks)"
   ]
  },
  {
   "cell_type": "code",
   "execution_count": 5,
   "id": "upset-aquatic",
   "metadata": {},
   "outputs": [
    {
     "name": "stdout",
     "output_type": "stream",
     "text": [
      "0\n",
      "1\n",
      "2\n",
      "3\n",
      "4\n",
      "5\n"
     ]
    }
   ],
   "source": [
    "x=0\n",
    "while x<6:\n",
    "    print(x)\n",
    "    x=x+1"
   ]
  },
  {
   "cell_type": "markdown",
   "id": "rocky-signature",
   "metadata": {},
   "source": [
    "Using a DNA sequence read from file, answer the following questions: (20mks)\n",
    "a)Show that the DNA string contains only four letters.\n",
    "b)In the DNA string there are regions that have a repeating letter. What is the letter and length of the longest repeating region?\n",
    "c)How many ’ATG’s are in the DNA string?"
   ]
  },
  {
   "cell_type": "code",
   "execution_count": 6,
   "id": "lined-identifier",
   "metadata": {},
   "outputs": [
    {
     "name": "stdout",
     "output_type": "stream",
     "text": [
      "100\n"
     ]
    }
   ],
   "source": [
    "#Question C\n",
    "file = open ('file.fasta')\n",
    "file=file.read()\n",
    "ATG_count=file.count(\"ATG\")\n",
    "print(ATG_count)"
   ]
  },
  {
   "cell_type": "markdown",
   "id": "horizontal-diagnosis",
   "metadata": {},
   "source": [
    "Create a bash script called hello.sh that takes a command line input of name, bash hello.sh Brian, prints: (5mks)\n",
    "\n",
    "Hello Brian.\n",
    "How are you?"
   ]
  },
  {
   "cell_type": "raw",
   "id": "spare-supervisor",
   "metadata": {},
   "source": [
    "#Hello.sh\n",
    "#!/usr/bin/env bash\n",
    "\n",
    "NAME=${1?Error:no name given}\n",
    "echo -e \"Hello $NAME \\nHow are you?\""
   ]
  },
  {
   "cell_type": "markdown",
   "id": "surgical-million",
   "metadata": {},
   "source": [
    "Write a script that counts the number of sequences in each fasta file in the Exam_dataset. It should print to console the name of the file and the number of sequences, each separated by a tab. For example, if sequence1.fasta has 10 sequences, it should print:\n",
    "sequence1.fasta: 10 (10mks)\n"
   ]
  },
  {
   "cell_type": "markdown",
   "id": "southwest-singer",
   "metadata": {},
   "source": [
    "#!/usr/bin/env bash\n",
    "\n",
    "grep -c \">\" Exam_dataset/SeqfromfileQ4.fasta\n",
    "grep -c \">\" Exam_dataset/sequence_3.fasta\n",
    "grep -c \">\" Exam_dataset/sequence_2.fasta\n",
    "grep -c \">\" Exam_dataset/sequence1.fasta"
   ]
  },
  {
   "cell_type": "code",
   "execution_count": null,
   "id": "regulation-mandate",
   "metadata": {},
   "outputs": [],
   "source": []
  }
 ],
 "metadata": {
  "kernelspec": {
   "display_name": "Python 3",
   "language": "python",
   "name": "python3"
  },
  "language_info": {
   "codemirror_mode": {
    "name": "ipython",
    "version": 3
   },
   "file_extension": ".py",
   "mimetype": "text/x-python",
   "name": "python",
   "nbconvert_exporter": "python",
   "pygments_lexer": "ipython3",
   "version": "3.9.1"
  }
 },
 "nbformat": 4,
 "nbformat_minor": 5
}
